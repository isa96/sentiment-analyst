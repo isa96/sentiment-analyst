{
 "cells": [
  {
   "cell_type": "markdown",
   "id": "796358b8",
   "metadata": {},
   "source": [
    "##### Problem Statement\n",
    "memprediksi genre film"
   ]
  },
  {
   "cell_type": "markdown",
   "id": "81162a53",
   "metadata": {},
   "source": [
    "## Import Libraries"
   ]
  },
  {
   "cell_type": "code",
   "execution_count": 2,
   "id": "4c96b674",
   "metadata": {},
   "outputs": [],
   "source": [
    "import re\n",
    "import json\n",
    "import numpy as np\n",
    "import pandas as pd\n",
    "import seaborn as sns\n",
    "import matplotlib.pyplot as plt"
   ]
  },
  {
   "cell_type": "code",
   "execution_count": 3,
   "id": "fd8e3793",
   "metadata": {},
   "outputs": [],
   "source": [
    "movie_data = pd.read_csv(\"data/movie_metadata.tsv\", sep=\"\\t\", header=None)\n",
    "plot_summ = pd.read_csv(\"data/plot_summaries.tsv\", sep=\"\\t\", header=None)"
   ]
  },
  {
   "cell_type": "code",
   "execution_count": 4,
   "id": "a2dc719e",
   "metadata": {
    "scrolled": true
   },
   "outputs": [
    {
     "data": {
      "text/html": [
       "<div>\n",
       "<style scoped>\n",
       "    .dataframe tbody tr th:only-of-type {\n",
       "        vertical-align: middle;\n",
       "    }\n",
       "\n",
       "    .dataframe tbody tr th {\n",
       "        vertical-align: top;\n",
       "    }\n",
       "\n",
       "    .dataframe thead th {\n",
       "        text-align: right;\n",
       "    }\n",
       "</style>\n",
       "<table border=\"1\" class=\"dataframe\">\n",
       "  <thead>\n",
       "    <tr style=\"text-align: right;\">\n",
       "      <th></th>\n",
       "      <th>0</th>\n",
       "      <th>1</th>\n",
       "      <th>2</th>\n",
       "      <th>3</th>\n",
       "      <th>4</th>\n",
       "      <th>5</th>\n",
       "      <th>6</th>\n",
       "      <th>7</th>\n",
       "      <th>8</th>\n",
       "    </tr>\n",
       "  </thead>\n",
       "  <tbody>\n",
       "    <tr>\n",
       "      <th>0</th>\n",
       "      <td>975900</td>\n",
       "      <td>/m/03vyhn</td>\n",
       "      <td>Ghosts of Mars</td>\n",
       "      <td>2001-08-24</td>\n",
       "      <td>14010832.0</td>\n",
       "      <td>98.0</td>\n",
       "      <td>{\"/m/02h40lc\": \"English Language\"}</td>\n",
       "      <td>{\"/m/09c7w0\": \"United States of America\"}</td>\n",
       "      <td>{\"/m/01jfsb\": \"Thriller\", \"/m/06n90\": \"Science...</td>\n",
       "    </tr>\n",
       "    <tr>\n",
       "      <th>1</th>\n",
       "      <td>3196793</td>\n",
       "      <td>/m/08yl5d</td>\n",
       "      <td>Getting Away with Murder: The JonBenét Ramsey ...</td>\n",
       "      <td>2000-02-16</td>\n",
       "      <td>NaN</td>\n",
       "      <td>95.0</td>\n",
       "      <td>{\"/m/02h40lc\": \"English Language\"}</td>\n",
       "      <td>{\"/m/09c7w0\": \"United States of America\"}</td>\n",
       "      <td>{\"/m/02n4kr\": \"Mystery\", \"/m/03bxz7\": \"Biograp...</td>\n",
       "    </tr>\n",
       "  </tbody>\n",
       "</table>\n",
       "</div>"
      ],
      "text/plain": [
       "         0          1                                                  2  \\\n",
       "0   975900  /m/03vyhn                                     Ghosts of Mars   \n",
       "1  3196793  /m/08yl5d  Getting Away with Murder: The JonBenét Ramsey ...   \n",
       "\n",
       "            3           4     5                                   6  \\\n",
       "0  2001-08-24  14010832.0  98.0  {\"/m/02h40lc\": \"English Language\"}   \n",
       "1  2000-02-16         NaN  95.0  {\"/m/02h40lc\": \"English Language\"}   \n",
       "\n",
       "                                           7  \\\n",
       "0  {\"/m/09c7w0\": \"United States of America\"}   \n",
       "1  {\"/m/09c7w0\": \"United States of America\"}   \n",
       "\n",
       "                                                   8  \n",
       "0  {\"/m/01jfsb\": \"Thriller\", \"/m/06n90\": \"Science...  \n",
       "1  {\"/m/02n4kr\": \"Mystery\", \"/m/03bxz7\": \"Biograp...  "
      ]
     },
     "execution_count": 4,
     "metadata": {},
     "output_type": "execute_result"
    }
   ],
   "source": [
    "movie_data.head(2)"
   ]
  },
  {
   "cell_type": "code",
   "execution_count": 5,
   "id": "a77d7b97",
   "metadata": {},
   "outputs": [
    {
     "name": "stdout",
     "output_type": "stream",
     "text": [
      "Shape Movie data : (81741, 9)\n",
      "\n",
      "Movie dtype :\n",
      " 0      int64\n",
      "1     object\n",
      "2     object\n",
      "3     object\n",
      "4    float64\n",
      "5    float64\n",
      "6     object\n",
      "7     object\n",
      "8     object\n",
      "dtype: object\n"
     ]
    }
   ],
   "source": [
    "print(\"Shape Movie data :\", movie_data.shape)\n",
    "print(\"\\nMovie dtype :\\n\", movie_data.dtypes)"
   ]
  },
  {
   "cell_type": "code",
   "execution_count": 6,
   "id": "dac7be94",
   "metadata": {},
   "outputs": [
    {
     "data": {
      "text/html": [
       "<div>\n",
       "<style scoped>\n",
       "    .dataframe tbody tr th:only-of-type {\n",
       "        vertical-align: middle;\n",
       "    }\n",
       "\n",
       "    .dataframe tbody tr th {\n",
       "        vertical-align: top;\n",
       "    }\n",
       "\n",
       "    .dataframe thead th {\n",
       "        text-align: right;\n",
       "    }\n",
       "</style>\n",
       "<table border=\"1\" class=\"dataframe\">\n",
       "  <thead>\n",
       "    <tr style=\"text-align: right;\">\n",
       "      <th></th>\n",
       "      <th>0</th>\n",
       "      <th>1</th>\n",
       "    </tr>\n",
       "  </thead>\n",
       "  <tbody>\n",
       "    <tr>\n",
       "      <th>0</th>\n",
       "      <td>23890098</td>\n",
       "      <td>Shlykov, a hard-working taxi driver and Lyosha...</td>\n",
       "    </tr>\n",
       "    <tr>\n",
       "      <th>1</th>\n",
       "      <td>31186339</td>\n",
       "      <td>The nation of Panem consists of a wealthy Capi...</td>\n",
       "    </tr>\n",
       "  </tbody>\n",
       "</table>\n",
       "</div>"
      ],
      "text/plain": [
       "          0                                                  1\n",
       "0  23890098  Shlykov, a hard-working taxi driver and Lyosha...\n",
       "1  31186339  The nation of Panem consists of a wealthy Capi..."
      ]
     },
     "execution_count": 6,
     "metadata": {},
     "output_type": "execute_result"
    }
   ],
   "source": [
    "plot_summ.head(2)"
   ]
  },
  {
   "cell_type": "code",
   "execution_count": 7,
   "id": "f6068f40",
   "metadata": {},
   "outputs": [
    {
     "name": "stdout",
     "output_type": "stream",
     "text": [
      "Shape plot summary : (42303, 2)\n",
      "\n",
      "plot dtype :\n",
      " 0     int64\n",
      "1    object\n",
      "dtype: object\n"
     ]
    }
   ],
   "source": [
    "print(\"Shape plot summary :\", plot_summ.shape)\n",
    "print(\"\\nplot dtype :\\n\", plot_summ.dtypes)"
   ]
  },
  {
   "cell_type": "markdown",
   "id": "21591896",
   "metadata": {},
   "source": [
    "## **Data Cleaning**\n",
    "• *Renaming required columns from 'movie_metadata' and 'plot_summary' dataframes <br/>*\n",
    "• *Merging 'movie_metadata' and 'plot_summary' dataframes into one <br/>*\n",
    "• *Cleaning the 'genre' column <br/>*\n",
    "• *Remove rows with 0 genre tags <br/>*"
   ]
  },
  {
   "cell_type": "code",
   "execution_count": 8,
   "id": "383e7202",
   "metadata": {},
   "outputs": [],
   "source": [
    "movie_data.columns = [\"movie_id\", 1, \"movie_name\", 3, 4, 5, 6, 7, \"genre\"]"
   ]
  },
  {
   "cell_type": "code",
   "execution_count": 9,
   "id": "639a13bb",
   "metadata": {},
   "outputs": [],
   "source": [
    "plot_summ.columns = [\"movie_id\", \"plot\"]"
   ]
  },
  {
   "cell_type": "code",
   "execution_count": 10,
   "id": "d2e757dc",
   "metadata": {},
   "outputs": [
    {
     "data": {
      "text/plain": [
       "(42204, 4)"
      ]
     },
     "execution_count": 10,
     "metadata": {},
     "output_type": "execute_result"
    }
   ],
   "source": [
    "df = pd.merge(movie_data[[\"movie_id\", \"movie_name\", \"genre\"]], plot_summ, on=\"movie_id\")\n",
    "df.shape"
   ]
  },
  {
   "cell_type": "code",
   "execution_count": 11,
   "id": "02a0e1ca",
   "metadata": {},
   "outputs": [
    {
     "data": {
      "text/html": [
       "<div>\n",
       "<style scoped>\n",
       "    .dataframe tbody tr th:only-of-type {\n",
       "        vertical-align: middle;\n",
       "    }\n",
       "\n",
       "    .dataframe tbody tr th {\n",
       "        vertical-align: top;\n",
       "    }\n",
       "\n",
       "    .dataframe thead th {\n",
       "        text-align: right;\n",
       "    }\n",
       "</style>\n",
       "<table border=\"1\" class=\"dataframe\">\n",
       "  <thead>\n",
       "    <tr style=\"text-align: right;\">\n",
       "      <th></th>\n",
       "      <th>movie_id</th>\n",
       "      <th>movie_name</th>\n",
       "      <th>genre</th>\n",
       "      <th>plot</th>\n",
       "    </tr>\n",
       "  </thead>\n",
       "  <tbody>\n",
       "    <tr>\n",
       "      <th>0</th>\n",
       "      <td>975900</td>\n",
       "      <td>Ghosts of Mars</td>\n",
       "      <td>{\"/m/01jfsb\": \"Thriller\", \"/m/06n90\": \"Science...</td>\n",
       "      <td>Set in the second half of the 22nd century, th...</td>\n",
       "    </tr>\n",
       "    <tr>\n",
       "      <th>1</th>\n",
       "      <td>9363483</td>\n",
       "      <td>White Of The Eye</td>\n",
       "      <td>{\"/m/01jfsb\": \"Thriller\", \"/m/0glj9q\": \"Erotic...</td>\n",
       "      <td>A series of murders of rich young women throug...</td>\n",
       "    </tr>\n",
       "  </tbody>\n",
       "</table>\n",
       "</div>"
      ],
      "text/plain": [
       "   movie_id        movie_name  \\\n",
       "0    975900    Ghosts of Mars   \n",
       "1   9363483  White Of The Eye   \n",
       "\n",
       "                                               genre  \\\n",
       "0  {\"/m/01jfsb\": \"Thriller\", \"/m/06n90\": \"Science...   \n",
       "1  {\"/m/01jfsb\": \"Thriller\", \"/m/0glj9q\": \"Erotic...   \n",
       "\n",
       "                                                plot  \n",
       "0  Set in the second half of the 22nd century, th...  \n",
       "1  A series of murders of rich young women throug...  "
      ]
     },
     "execution_count": 11,
     "metadata": {},
     "output_type": "execute_result"
    }
   ],
   "source": [
    "df.head(2)"
   ]
  },
  {
   "cell_type": "markdown",
   "id": "db3dd693",
   "metadata": {},
   "source": [
    "###### Cleaning genre column"
   ]
  },
  {
   "cell_type": "code",
   "execution_count": 12,
   "id": "c1114012",
   "metadata": {},
   "outputs": [
    {
     "data": {
      "text/plain": [
       "'{\"/m/01jfsb\": \"Thriller\", \"/m/06n90\": \"Science Fiction\", \"/m/03npn\": \"Horror\", \"/m/03k9fj\": \"Adventure\", \"/m/0fdjb\": \"Supernatural\", \"/m/02kdv5l\": \"Action\", \"/m/09zvmj\": \"Space western\"}'"
      ]
     },
     "execution_count": 12,
     "metadata": {},
     "output_type": "execute_result"
    }
   ],
   "source": [
    "df[\"genre\"][0]"
   ]
  },
  {
   "cell_type": "code",
   "execution_count": 13,
   "id": "0e81f80f",
   "metadata": {},
   "outputs": [
    {
     "data": {
      "text/plain": [
       "dict_values(['Thriller', 'Science Fiction', 'Horror', 'Adventure', 'Supernatural', 'Action', 'Space western'])"
      ]
     },
     "execution_count": 13,
     "metadata": {},
     "output_type": "execute_result"
    }
   ],
   "source": [
    "json.loads(df[\"genre\"][0]).values()"
   ]
  },
  {
   "cell_type": "code",
   "execution_count": 14,
   "id": "629f3b94",
   "metadata": {},
   "outputs": [
    {
     "data": {
      "text/html": [
       "<div>\n",
       "<style scoped>\n",
       "    .dataframe tbody tr th:only-of-type {\n",
       "        vertical-align: middle;\n",
       "    }\n",
       "\n",
       "    .dataframe tbody tr th {\n",
       "        vertical-align: top;\n",
       "    }\n",
       "\n",
       "    .dataframe thead th {\n",
       "        text-align: right;\n",
       "    }\n",
       "</style>\n",
       "<table border=\"1\" class=\"dataframe\">\n",
       "  <thead>\n",
       "    <tr style=\"text-align: right;\">\n",
       "      <th></th>\n",
       "      <th>movie_id</th>\n",
       "      <th>movie_name</th>\n",
       "      <th>genre</th>\n",
       "      <th>plot</th>\n",
       "    </tr>\n",
       "  </thead>\n",
       "  <tbody>\n",
       "    <tr>\n",
       "      <th>9822</th>\n",
       "      <td>2569670</td>\n",
       "      <td>Hanussen</td>\n",
       "      <td>[Drama]</td>\n",
       "      <td>Austrian Klaus Schneider, who later comes to b...</td>\n",
       "    </tr>\n",
       "    <tr>\n",
       "      <th>12024</th>\n",
       "      <td>20529868</td>\n",
       "      <td>Banquet Busters</td>\n",
       "      <td>[Short Film, Comedy film, Family Film, Animation]</td>\n",
       "      <td>Andy Panda and Woody Woodpecker are two cold, ...</td>\n",
       "    </tr>\n",
       "  </tbody>\n",
       "</table>\n",
       "</div>"
      ],
      "text/plain": [
       "       movie_id       movie_name  \\\n",
       "9822    2569670         Hanussen   \n",
       "12024  20529868  Banquet Busters   \n",
       "\n",
       "                                                   genre  \\\n",
       "9822                                             [Drama]   \n",
       "12024  [Short Film, Comedy film, Family Film, Animation]   \n",
       "\n",
       "                                                    plot  \n",
       "9822   Austrian Klaus Schneider, who later comes to b...  \n",
       "12024  Andy Panda and Woody Woodpecker are two cold, ...  "
      ]
     },
     "execution_count": 14,
     "metadata": {},
     "output_type": "execute_result"
    }
   ],
   "source": [
    "df[\"genre\"] =  df[\"genre\"].apply(lambda x: list(json.loads(x).values()))\n",
    "df.sample(2)"
   ]
  },
  {
   "cell_type": "code",
   "execution_count": 15,
   "id": "71251d66",
   "metadata": {},
   "outputs": [
    {
     "data": {
      "text/plain": [
       "(41793, 4)"
      ]
     },
     "execution_count": 15,
     "metadata": {},
     "output_type": "execute_result"
    }
   ],
   "source": [
    "# Remove rows with 0 genre tags if only \n",
    "df = df[df['genre'].apply(lambda x: False if len(x)==0 else True)]\n",
    "df.shape"
   ]
  },
  {
   "cell_type": "markdown",
   "id": "0d2ac4af",
   "metadata": {},
   "source": [
    "### Data Visualization\n",
    "###### Unique genre"
   ]
  },
  {
   "cell_type": "code",
   "execution_count": 16,
   "id": "69e6441a",
   "metadata": {},
   "outputs": [],
   "source": [
    "all_genre = []\n",
    "temp = []\n",
    "\n",
    "def total_unique(x):\n",
    "    global all_genre, temp\n",
    "    x = x.reset_index()\n",
    "    for i in range(0, x.shape[0]):\n",
    "        temp = temp + x.iloc[i, 1]\n",
    "        \n",
    "    all_genre = set(temp)\n",
    "    return len(all_genre)"
   ]
  },
  {
   "cell_type": "code",
   "execution_count": 18,
   "id": "0d857929",
   "metadata": {},
   "outputs": [
    {
     "name": "stdout",
     "output_type": "stream",
     "text": [
      "Total number of unique genres are: 363\n"
     ]
    }
   ],
   "source": [
    "print('Total number of unique genres are: {}'.format(total_unique(df['genre'])))"
   ]
  },
  {
   "cell_type": "markdown",
   "id": "3287cec7",
   "metadata": {},
   "source": [
    "###### Using FreqDist to calculate the frequency of all the genres in the dataset"
   ]
  },
  {
   "cell_type": "code",
   "execution_count": 21,
   "id": "d8965947",
   "metadata": {},
   "outputs": [],
   "source": [
    "from nltk.probability import FreqDist\n",
    "\n",
    "temp_count = FreqDist(temp)\n",
    "df_genre = pd.DataFrame({\"Genre\": list(temp_count.keys()),\n",
    "                         \"Count\": list(temp_count.values())})"
   ]
  },
  {
   "cell_type": "code",
   "execution_count": 22,
   "id": "e6dcb80c",
   "metadata": {},
   "outputs": [
    {
     "data": {
      "image/png": "[encoded data removed]",
      "text/plain": [
       "<Figure size 700x1500 with 1 Axes>"
      ]
     },
     "metadata": {},
     "output_type": "display_data"
    }
   ],
   "source": [
    "genre_top_50 = df_genre.sort_values(by=[\"Count\"], ascending=False).iloc[0:50, :]\n",
    "plt.figure(figsize=(7,15))\n",
    "sns.barplot(x=\"Count\", y=\"Genre\", data=genre_top_50)\n",
    "plt.xlabel(\"Frequency\")\n",
    "plt.ylabel(\"Genre\");"
   ]
  },
  {
   "cell_type": "markdown",
   "id": "cb9566c0",
   "metadata": {},
   "source": [
    "## **Data Preprocessing**\n",
    "• *Clean plot summary*<br/>\n",
    "• *Remove stopwords*<br/>\n",
    "• *Stem plot summary*<br/>\n",
    "• *Convert Genre into Target variables using MultiLabelBinarizer*<br/>\n",
    "• *Split dataset into train and test set*<br/>\n",
    "• *Create features from corpus using TfidfVectorizer*<br/>"
   ]
  },
  {
   "cell_type": "code",
   "execution_count": 27,
   "id": "870ddad0",
   "metadata": {},
   "outputs": [],
   "source": [
    "import re\n",
    "import nltk\n",
    "\n",
    "from nltk.tokenize import word_tokenize\n",
    "from nltk.corpus import stopwords\n",
    "stop_words = set(stopwords.words('english'))\n",
    "from nltk.stem import PorterStemmer"
   ]
  },
  {
   "cell_type": "code",
   "execution_count": 25,
   "id": "80892e4a",
   "metadata": {},
   "outputs": [
    {
     "data": {
      "text/plain": [
       "0        Set in the second half of the 22nd century, th...\n",
       "1        A series of murders of rich young women throug...\n",
       "2        Eva, an upper class housewife, becomes frustra...\n",
       "3        Every hundred years, the evil Morgana  returns...\n",
       "4        Adam, a San Francisco-based artist who works a...\n",
       "                               ...                        \n",
       "42199    {{plot}} The film opens with a Great Western e...\n",
       "42200    Two former National Oceanic Atmospheric Admini...\n",
       "42201    {{No plot}} This film follows 12 years in the ...\n",
       "42202    The story takes place in the year 2092,The Sup...\n",
       "42203    The movie is about a teenage girl who loves ho...\n",
       "Name: plot, Length: 41793, dtype: object"
      ]
     },
     "execution_count": 25,
     "metadata": {},
     "output_type": "execute_result"
    }
   ],
   "source": [
    "df[\"plot\"]"
   ]
  },
  {
   "cell_type": "code",
   "execution_count": 31,
   "id": "c7b6276c",
   "metadata": {},
   "outputs": [],
   "source": [
    "def preproces(text):\n",
    "    text = text.lower()\n",
    "    text = re.sub('[^a-zA-Z]', ' ', text)\n",
    "    text_token = word_tokenize(text)\n",
    "    filter_text = [w for w in text_token if not w in stop_words]\n",
    "    return \" \".join(filter_text)"
   ]
  },
  {
   "cell_type": "code",
   "execution_count": 32,
   "id": "6d993151",
   "metadata": {},
   "outputs": [
    {
     "data": {
      "text/html": [
       "<div>\n",
       "<style scoped>\n",
       "    .dataframe tbody tr th:only-of-type {\n",
       "        vertical-align: middle;\n",
       "    }\n",
       "\n",
       "    .dataframe tbody tr th {\n",
       "        vertical-align: top;\n",
       "    }\n",
       "\n",
       "    .dataframe thead th {\n",
       "        text-align: right;\n",
       "    }\n",
       "</style>\n",
       "<table border=\"1\" class=\"dataframe\">\n",
       "  <thead>\n",
       "    <tr style=\"text-align: right;\">\n",
       "      <th></th>\n",
       "      <th>plot</th>\n",
       "      <th>clean_noStopword_plot</th>\n",
       "    </tr>\n",
       "  </thead>\n",
       "  <tbody>\n",
       "    <tr>\n",
       "      <th>0</th>\n",
       "      <td>Set in the second half of the 22nd century, th...</td>\n",
       "      <td>set second half nd century film depicts mars p...</td>\n",
       "    </tr>\n",
       "    <tr>\n",
       "      <th>1</th>\n",
       "      <td>A series of murders of rich young women throug...</td>\n",
       "      <td>series murders rich young women throughout ari...</td>\n",
       "    </tr>\n",
       "    <tr>\n",
       "      <th>2</th>\n",
       "      <td>Eva, an upper class housewife, becomes frustra...</td>\n",
       "      <td>eva upper class housewife becomes frustrated l...</td>\n",
       "    </tr>\n",
       "    <tr>\n",
       "      <th>3</th>\n",
       "      <td>Every hundred years, the evil Morgana  returns...</td>\n",
       "      <td>every hundred years evil morgana returns claim...</td>\n",
       "    </tr>\n",
       "    <tr>\n",
       "      <th>4</th>\n",
       "      <td>Adam, a San Francisco-based artist who works a...</td>\n",
       "      <td>adam san francisco based artist works cab driv...</td>\n",
       "    </tr>\n",
       "  </tbody>\n",
       "</table>\n",
       "</div>"
      ],
      "text/plain": [
       "                                                plot  \\\n",
       "0  Set in the second half of the 22nd century, th...   \n",
       "1  A series of murders of rich young women throug...   \n",
       "2  Eva, an upper class housewife, becomes frustra...   \n",
       "3  Every hundred years, the evil Morgana  returns...   \n",
       "4  Adam, a San Francisco-based artist who works a...   \n",
       "\n",
       "                               clean_noStopword_plot  \n",
       "0  set second half nd century film depicts mars p...  \n",
       "1  series murders rich young women throughout ari...  \n",
       "2  eva upper class housewife becomes frustrated l...  \n",
       "3  every hundred years evil morgana returns claim...  \n",
       "4  adam san francisco based artist works cab driv...  "
      ]
     },
     "execution_count": 32,
     "metadata": {},
     "output_type": "execute_result"
    }
   ],
   "source": [
    "df['clean_noStopword_plot'] = df['plot'].apply(lambda x: preproces(x))\n",
    "df[['plot', 'clean_noStopword_plot']].head()"
   ]
  },
  {
   "cell_type": "code",
   "execution_count": 33,
   "id": "064484ab",
   "metadata": {},
   "outputs": [],
   "source": [
    "stem = PorterStemmer()\n",
    "\n",
    "def stemming(text):\n",
    "    text = text.split()\n",
    "    text = [stem.stem(word) for word in text]\n",
    "    return \" \".join(text)"
   ]
  },
  {
   "cell_type": "code",
   "execution_count": 34,
   "id": "70f68e5e",
   "metadata": {},
   "outputs": [
    {
     "data": {
      "text/html": [
       "<div>\n",
       "<style scoped>\n",
       "    .dataframe tbody tr th:only-of-type {\n",
       "        vertical-align: middle;\n",
       "    }\n",
       "\n",
       "    .dataframe tbody tr th {\n",
       "        vertical-align: top;\n",
       "    }\n",
       "\n",
       "    .dataframe thead th {\n",
       "        text-align: right;\n",
       "    }\n",
       "</style>\n",
       "<table border=\"1\" class=\"dataframe\">\n",
       "  <thead>\n",
       "    <tr style=\"text-align: right;\">\n",
       "      <th></th>\n",
       "      <th>clean_noStopword_plot</th>\n",
       "      <th>clean_noStopword_stem_plot</th>\n",
       "    </tr>\n",
       "  </thead>\n",
       "  <tbody>\n",
       "    <tr>\n",
       "      <th>0</th>\n",
       "      <td>set second half nd century film depicts mars p...</td>\n",
       "      <td>set second half nd centuri film depict mar pla...</td>\n",
       "    </tr>\n",
       "    <tr>\n",
       "      <th>1</th>\n",
       "      <td>series murders rich young women throughout ari...</td>\n",
       "      <td>seri murder rich young women throughout arizon...</td>\n",
       "    </tr>\n",
       "    <tr>\n",
       "      <th>2</th>\n",
       "      <td>eva upper class housewife becomes frustrated l...</td>\n",
       "      <td>eva upper class housewif becom frustrat leav a...</td>\n",
       "    </tr>\n",
       "    <tr>\n",
       "      <th>3</th>\n",
       "      <td>every hundred years evil morgana returns claim...</td>\n",
       "      <td>everi hundr year evil morgana return claim fin...</td>\n",
       "    </tr>\n",
       "    <tr>\n",
       "      <th>4</th>\n",
       "      <td>adam san francisco based artist works cab driv...</td>\n",
       "      <td>adam san francisco base artist work cab driver...</td>\n",
       "    </tr>\n",
       "  </tbody>\n",
       "</table>\n",
       "</div>"
      ],
      "text/plain": [
       "                               clean_noStopword_plot  \\\n",
       "0  set second half nd century film depicts mars p...   \n",
       "1  series murders rich young women throughout ari...   \n",
       "2  eva upper class housewife becomes frustrated l...   \n",
       "3  every hundred years evil morgana returns claim...   \n",
       "4  adam san francisco based artist works cab driv...   \n",
       "\n",
       "                          clean_noStopword_stem_plot  \n",
       "0  set second half nd centuri film depict mar pla...  \n",
       "1  seri murder rich young women throughout arizon...  \n",
       "2  eva upper class housewif becom frustrat leav a...  \n",
       "3  everi hundr year evil morgana return claim fin...  \n",
       "4  adam san francisco base artist work cab driver...  "
      ]
     },
     "execution_count": 34,
     "metadata": {},
     "output_type": "execute_result"
    }
   ],
   "source": [
    "df['clean_noStopword_stem_plot'] = df['clean_noStopword_plot'].apply(lambda x: stemming(x))\n",
    "df[['clean_noStopword_plot', 'clean_noStopword_stem_plot']].head()"
   ]
  },
  {
   "cell_type": "markdown",
   "id": "13cd3d00",
   "metadata": {},
   "source": [
    "##### Convert Genre into Target variables using MultiLabelBinarizer"
   ]
  },
  {
   "cell_type": "code",
   "execution_count": 37,
   "id": "b9ec5332",
   "metadata": {},
   "outputs": [],
   "source": [
    "from sklearn.preprocessing import MultiLabelBinarizer\n",
    "from sklearn.model_selection import train_test_split\n",
    "from sklearn.feature_extraction.text import TfidfVectorizer"
   ]
  },
  {
   "cell_type": "code",
   "execution_count": 43,
   "id": "f661f6c0",
   "metadata": {},
   "outputs": [],
   "source": [
    "mlb = MultiLabelBinarizer()\n",
    "y = mlb.fit_transform(df['genre'])"
   ]
  },
  {
   "cell_type": "code",
   "execution_count": 44,
   "id": "4d575faa",
   "metadata": {},
   "outputs": [],
   "source": [
    "X = df['clean_noStopword_stem_plot']"
   ]
  },
  {
   "cell_type": "code",
   "execution_count": 45,
   "id": "66762c4a",
   "metadata": {},
   "outputs": [
    {
     "data": {
      "text/plain": [
       "((33434,), (8359,), (33434, 363), (8359, 363))"
      ]
     },
     "execution_count": 45,
     "metadata": {},
     "output_type": "execute_result"
    }
   ],
   "source": [
    "X_train, X_test, y_train, y_test = train_test_split(X, y, test_size=0.2,\n",
    "                                                     random_state=101)\n",
    "\n",
    "X_train.shape, X_test.shape, y_train.shape, y_test.shape"
   ]
  },
  {
   "cell_type": "markdown",
   "id": "28f2521e",
   "metadata": {},
   "source": [
    "## Model Building"
   ]
  },
  {
   "cell_type": "code",
   "execution_count": 47,
   "id": "c83f83b2",
   "metadata": {},
   "outputs": [],
   "source": [
    "from sklearn.pipeline import Pipeline\n",
    "from sklearn.linear_model import LogisticRegression\n",
    "from sklearn.multiclass import OneVsRestClassifier"
   ]
  },
  {
   "cell_type": "code",
   "execution_count": 46,
   "id": "3b551299",
   "metadata": {},
   "outputs": [],
   "source": [
    "tfidf = TfidfVectorizer(max_df=0.8, max_features=10000)\n",
    "X_train = tfidf.fit_transform(X_train)\n",
    "X_test = tfidf.transform(X_test)"
   ]
  },
  {
   "cell_type": "code",
   "execution_count": 48,
   "id": "60a09cbc",
   "metadata": {},
   "outputs": [],
   "source": [
    "lr = LogisticRegression()\n",
    "ovr_clf = OneVsRestClassifier(lr)"
   ]
  },
  {
   "cell_type": "code",
   "execution_count": 49,
   "id": "2b34e540",
   "metadata": {},
   "outputs": [
    {
     "name": "stderr",
     "output_type": "stream",
     "text": [
      "C:\\Users\\fahmi\\anaconda3\\envs\\tensorflow\\lib\\site-packages\\sklearn\\multiclass.py:77: UserWarning: Label not 188 is present in all training examples.\n",
      "  warnings.warn(\n",
      "C:\\Users\\fahmi\\anaconda3\\envs\\tensorflow\\lib\\site-packages\\sklearn\\multiclass.py:77: UserWarning: Label not 247 is present in all training examples.\n",
      "  warnings.warn(\n",
      "C:\\Users\\fahmi\\anaconda3\\envs\\tensorflow\\lib\\site-packages\\sklearn\\multiclass.py:77: UserWarning: Label not 280 is present in all training examples.\n",
      "  warnings.warn(\n"
     ]
    },
    {
     "data": {
      "text/html": [
       "<style>#sk-container-id-1 {color: black;background-color: white;}#sk-container-id-1 pre{padding: 0;}#sk-container-id-1 div.sk-toggleable {background-color: white;}#sk-container-id-1 label.sk-toggleable__label {cursor: pointer;display: block;width: 100%;margin-bottom: 0;padding: 0.3em;box-sizing: border-box;text-align: center;}#sk-container-id-1 label.sk-toggleable__label-arrow:before {content: \"▸\";float: left;margin-right: 0.25em;color: #696969;}#sk-container-id-1 label.sk-toggleable__label-arrow:hover:before {color: black;}#sk-container-id-1 div.sk-estimator:hover label.sk-toggleable__label-arrow:before {color: black;}#sk-container-id-1 div.sk-toggleable__content {max-height: 0;max-width: 0;overflow: hidden;text-align: left;background-color: #f0f8ff;}#sk-container-id-1 div.sk-toggleable__content pre {margin: 0.2em;color: black;border-radius: 0.25em;background-color: #f0f8ff;}#sk-container-id-1 input.sk-toggleable__control:checked~div.sk-toggleable__content {max-height: 200px;max-width: 100%;overflow: auto;}#sk-container-id-1 input.sk-toggleable__control:checked~label.sk-toggleable__label-arrow:before {content: \"▾\";}#sk-container-id-1 div.sk-estimator input.sk-toggleable__control:checked~label.sk-toggleable__label {background-color: #d4ebff;}#sk-container-id-1 div.sk-label input.sk-toggleable__control:checked~label.sk-toggleable__label {background-color: #d4ebff;}#sk-container-id-1 input.sk-hidden--visually {border: 0;clip: rect(1px 1px 1px 1px);clip: rect(1px, 1px, 1px, 1px);height: 1px;margin: -1px;overflow: hidden;padding: 0;position: absolute;width: 1px;}#sk-container-id-1 div.sk-estimator {font-family: monospace;background-color: #f0f8ff;border: 1px dotted black;border-radius: 0.25em;box-sizing: border-box;margin-bottom: 0.5em;}#sk-container-id-1 div.sk-estimator:hover {background-color: #d4ebff;}#sk-container-id-1 div.sk-parallel-item::after {content: \"\";width: 100%;border-bottom: 1px solid gray;flex-grow: 1;}#sk-container-id-1 div.sk-label:hover label.sk-toggleable__label {background-color: #d4ebff;}#sk-container-id-1 div.sk-serial::before {content: \"\";position: absolute;border-left: 1px solid gray;box-sizing: border-box;top: 0;bottom: 0;left: 50%;z-index: 0;}#sk-container-id-1 div.sk-serial {display: flex;flex-direction: column;align-items: center;background-color: white;padding-right: 0.2em;padding-left: 0.2em;position: relative;}#sk-container-id-1 div.sk-item {position: relative;z-index: 1;}#sk-container-id-1 div.sk-parallel {display: flex;align-items: stretch;justify-content: center;background-color: white;position: relative;}#sk-container-id-1 div.sk-item::before, #sk-container-id-1 div.sk-parallel-item::before {content: \"\";position: absolute;border-left: 1px solid gray;box-sizing: border-box;top: 0;bottom: 0;left: 50%;z-index: -1;}#sk-container-id-1 div.sk-parallel-item {display: flex;flex-direction: column;z-index: 1;position: relative;background-color: white;}#sk-container-id-1 div.sk-parallel-item:first-child::after {align-self: flex-end;width: 50%;}#sk-container-id-1 div.sk-parallel-item:last-child::after {align-self: flex-start;width: 50%;}#sk-container-id-1 div.sk-parallel-item:only-child::after {width: 0;}#sk-container-id-1 div.sk-dashed-wrapped {border: 1px dashed gray;margin: 0 0.4em 0.5em 0.4em;box-sizing: border-box;padding-bottom: 0.4em;background-color: white;}#sk-container-id-1 div.sk-label label {font-family: monospace;font-weight: bold;display: inline-block;line-height: 1.2em;}#sk-container-id-1 div.sk-label-container {text-align: center;}#sk-container-id-1 div.sk-container {/* jupyter's `normalize.less` sets `[hidden] { display: none; }` but bootstrap.min.css set `[hidden] { display: none !important; }` so we also need the `!important` here to be able to override the default hidden behavior on the sphinx rendered scikit-learn.org. See: https://github.com/scikit-learn/scikit-learn/issues/21755 */display: inline-block !important;position: relative;}#sk-container-id-1 div.sk-text-repr-fallback {display: none;}</style><div id=\"sk-container-id-1\" class=\"sk-top-container\"><div class=\"sk-text-repr-fallback\"><pre>OneVsRestClassifier(estimator=LogisticRegression())</pre><b>In a Jupyter environment, please rerun this cell to show the HTML representation or trust the notebook. <br />On GitHub, the HTML representation is unable to render, please try loading this page with nbviewer.org.</b></div><div class=\"sk-container\" hidden><div class=\"sk-item sk-dashed-wrapped\"><div class=\"sk-label-container\"><div class=\"sk-label sk-toggleable\"><input class=\"sk-toggleable__control sk-hidden--visually\" id=\"sk-estimator-id-1\" type=\"checkbox\" ><label for=\"sk-estimator-id-1\" class=\"sk-toggleable__label sk-toggleable__label-arrow\">OneVsRestClassifier</label><div class=\"sk-toggleable__content\"><pre>OneVsRestClassifier(estimator=LogisticRegression())</pre></div></div></div><div class=\"sk-parallel\"><div class=\"sk-parallel-item\"><div class=\"sk-item\"><div class=\"sk-label-container\"><div class=\"sk-label sk-toggleable\"><input class=\"sk-toggleable__control sk-hidden--visually\" id=\"sk-estimator-id-2\" type=\"checkbox\" ><label for=\"sk-estimator-id-2\" class=\"sk-toggleable__label sk-toggleable__label-arrow\">estimator: LogisticRegression</label><div class=\"sk-toggleable__content\"><pre>LogisticRegression()</pre></div></div></div><div class=\"sk-serial\"><div class=\"sk-item\"><div class=\"sk-estimator sk-toggleable\"><input class=\"sk-toggleable__control sk-hidden--visually\" id=\"sk-estimator-id-3\" type=\"checkbox\" ><label for=\"sk-estimator-id-3\" class=\"sk-toggleable__label sk-toggleable__label-arrow\">LogisticRegression</label><div class=\"sk-toggleable__content\"><pre>LogisticRegression()</pre></div></div></div></div></div></div></div></div></div></div>"
      ],
      "text/plain": [
       "OneVsRestClassifier(estimator=LogisticRegression())"
      ]
     },
     "execution_count": 49,
     "metadata": {},
     "output_type": "execute_result"
    }
   ],
   "source": [
    "ovr_clf.fit(X_train, y_train)"
   ]
  },
  {
   "cell_type": "code",
   "execution_count": 51,
   "id": "5b0a8a79",
   "metadata": {},
   "outputs": [
    {
     "data": {
      "text/plain": [
       "array([0, 0, 1, 0, 0, 1, 0, 0, 0, 0, 0, 0, 0, 0, 0, 0, 0, 0, 0, 0, 0, 0,\n",
       "       0, 0, 0, 0, 0, 0, 0, 0, 0, 0, 0, 0, 0, 0, 0, 0, 0, 0, 0, 0, 0, 0,\n",
       "       0, 0, 0, 0, 0, 0, 0, 0, 0, 0, 0, 0, 0, 0, 0, 0, 0, 0, 0, 0, 0, 0,\n",
       "       0, 0, 0, 0, 0, 0, 0, 0, 0, 0, 0, 0, 0, 0, 0, 0, 0, 0, 0, 0, 0, 0,\n",
       "       0, 0, 0, 0, 0, 0, 0, 0, 0, 0, 0, 0, 0, 0, 0, 0, 0, 0, 0, 0, 0, 0,\n",
       "       0, 0, 0, 0, 0, 0, 0, 0, 0, 0, 0, 0, 0, 0, 0, 0, 0, 0, 0, 0, 0, 0,\n",
       "       0, 0, 0, 0, 0, 0, 0, 0, 0, 0, 0, 0, 0, 0, 0, 0, 0, 0, 0, 0, 0, 0,\n",
       "       0, 0, 0, 0, 0, 0, 0, 0, 0, 0, 0, 0, 0, 0, 0, 0, 0, 0, 0, 0, 0, 0,\n",
       "       0, 0, 0, 0, 0, 0, 0, 0, 0, 0, 0, 0, 0, 0, 0, 0, 0, 0, 0, 0, 0, 0,\n",
       "       0, 0, 0, 0, 0, 0, 0, 0, 0, 0, 0, 0, 0, 0, 0, 0, 0, 0, 0, 0, 0, 0,\n",
       "       0, 0, 0, 0, 0, 0, 0, 0, 0, 0, 0, 0, 0, 0, 0, 0, 0, 0, 0, 0, 0, 0,\n",
       "       0, 0, 0, 0, 0, 0, 0, 0, 0, 0, 0, 0, 0, 0, 0, 0, 0, 0, 0, 0, 0, 0,\n",
       "       0, 0, 0, 0, 0, 0, 0, 0, 0, 0, 0, 0, 0, 0, 0, 0, 0, 0, 0, 0, 0, 0,\n",
       "       0, 0, 0, 0, 0, 0, 0, 0, 0, 0, 0, 0, 0, 0, 0, 0, 0, 0, 0, 0, 0, 0,\n",
       "       0, 0, 0, 0, 0, 0, 0, 0, 0, 0, 0, 0, 0, 0, 0, 0, 0, 0, 0, 0, 0, 0,\n",
       "       0, 0, 0, 0, 0, 0, 0, 0, 0, 0, 0, 0, 0, 0, 0, 0, 0, 0, 0, 0, 0, 0,\n",
       "       0, 0, 0, 0, 0, 0, 0, 0, 0, 0, 0])"
      ]
     },
     "execution_count": 51,
     "metadata": {},
     "output_type": "execute_result"
    }
   ],
   "source": [
    "y_pred = ovr_clf.predict(X_test)\n",
    "y_pred[5]"
   ]
  },
  {
   "cell_type": "code",
   "execution_count": 53,
   "id": "8ef9ae0b",
   "metadata": {},
   "outputs": [
    {
     "name": "stdout",
     "output_type": "stream",
     "text": [
      "0.3235639520040847\n"
     ]
    }
   ],
   "source": [
    "from sklearn.metrics import f1_score\n",
    "print(f1_score(y_test, y_pred, average=\"micro\"))"
   ]
  },
  {
   "cell_type": "code",
   "execution_count": 54,
   "id": "f8c4c75a",
   "metadata": {},
   "outputs": [],
   "source": [
    "# Changing the threshold probability from 0.5 to 0.3\n",
    "y_pred_prob = ovr_clf.predict_proba(X_test)\n",
    "y_pred_new = (y_pred_prob >= 0.2).astype(int)"
   ]
  },
  {
   "cell_type": "code",
   "execution_count": 55,
   "id": "5a47183f",
   "metadata": {},
   "outputs": [
    {
     "data": {
      "text/plain": [
       "0.4756693243810323"
      ]
     },
     "execution_count": 55,
     "metadata": {},
     "output_type": "execute_result"
    }
   ],
   "source": [
    "f1_score(y_test, y_pred_new, average=\"micro\")"
   ]
  },
  {
   "cell_type": "markdown",
   "id": "193647fb",
   "metadata": {},
   "source": [
    "# Predictions"
   ]
  },
  {
   "cell_type": "code",
   "execution_count": 56,
   "id": "a2532095",
   "metadata": {},
   "outputs": [],
   "source": [
    "def predict_genre_tags(text):\n",
    "    text = preproces(text)\n",
    "    text = stemming(text)\n",
    "    text_vec = tfidf.transform([text])\n",
    "    text_pred = ovr_clf.predict(text_vec)\n",
    "    return mlb.inverse_transform(text_pred)"
   ]
  },
  {
   "cell_type": "code",
   "execution_count": 59,
   "id": "da6570a4",
   "metadata": {},
   "outputs": [
    {
     "name": "stdout",
     "output_type": "stream",
     "text": [
      "Movie: Avatar (2009)\n",
      "Predicted genres: ()\n",
      "Actual genres: ['Action', 'Adventure', 'Fantasy']\n"
     ]
    }
   ],
   "source": [
    "movie_name = 'Avatar (2009)'\n",
    "plot_summary = \"On the lush alien world of Pandora live the Na'vi, beings who appear primitive but are highly evolved. Because the planet's environment is poisonous, human/Na'vi hybrids, called Avatars, must link to human minds to allow for free movement on Pandora. Jake Sully (Sam Worthington), a paralyzed former Marine, becomes mobile again through one such Avatar and falls in love with a Na'vi woman (Zoe Saldana). As a bond with her grows, he is drawn into a battle for the survival of her world.\"\n",
    "actual_genre = ['Action', 'Adventure', 'Fantasy']\n",
    "predicted_genre = predict_genre_tags(plot_summary)\n",
    "print('Movie: {}\\nPredicted genres: {}\\nActual genres: {}'.format(movie_name, predicted_genre[0], actual_genre))"
   ]
  },
  {
   "cell_type": "code",
   "execution_count": 60,
   "id": "ac0e5de8",
   "metadata": {},
   "outputs": [
    {
     "name": "stdout",
     "output_type": "stream",
     "text": [
      "Movie: La La Land (2016)\n",
      "Predicted genres: ('Drama', 'Romance Film')\n",
      "Actual genres: ['Comedy', 'Drama', 'Music']\n"
     ]
    }
   ],
   "source": [
    "movie_name = 'La La Land (2016)'\n",
    "plot_summary = \"The story of aspiring actress Mia and dedicated jazz musician Sebastian, who struggle to make ends meet while pursuing their dreams in a city known for destroying hopes and breaking hearts. With modern-day Los Angeles as the backdrop, this musical about everyday life explores what more important: a once-in-a-lifetime love or the spotlight.\"\n",
    "actual_genre = ['Comedy', 'Drama', 'Music']\n",
    "predicted_genre = predict_genre_tags(plot_summary)\n",
    "print('Movie: {}\\nPredicted genres: {}\\nActual genres: {}'.format(movie_name, predicted_genre[0], actual_genre))"
   ]
  },
  {
   "cell_type": "code",
   "execution_count": 61,
   "id": "900ff203",
   "metadata": {},
   "outputs": [
    {
     "name": "stdout",
     "output_type": "stream",
     "text": [
      "Movie: The Hangover (2009)\n",
      "Predicted genres: ('Comedy', 'Romance Film')\n",
      "Actual genres: ['Comedy']\n"
     ]
    }
   ],
   "source": [
    "movie_name = 'The Hangover (2009)'\n",
    "plot_summary = \"Three buddies wake up from a bachelor party in Las Vegas, with no memory of the previous night and the bachelor missing. They make their way around the city in order to find their friend before his wedding.\"\n",
    "actual_genre = ['Comedy']\n",
    "predicted_genre = predict_genre_tags(plot_summary)\n",
    "print('Movie: {}\\nPredicted genres: {}\\nActual genres: {}'.format(movie_name, predicted_genre[0], actual_genre))"
   ]
  }
 ],
 "metadata": {
  "kernelspec": {
   "display_name": "Python 3 (ipykernel)",
   "language": "python",
   "name": "python3"
  },
  "language_info": {
   "codemirror_mode": {
    "name": "ipython",
    "version": 3
   },
   "file_extension": ".py",
   "mimetype": "text/x-python",
   "name": "python",
   "nbconvert_exporter": "python",
   "pygments_lexer": "ipython3",
   "version": "3.10.4"
  }
 },
 "nbformat": 4,
 "nbformat_minor": 5
}
